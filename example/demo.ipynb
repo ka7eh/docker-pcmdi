{
 "cells": [
  {
   "cell_type": "code",
   "execution_count": 1,
   "metadata": {},
   "outputs": [],
   "source": [
    "# This demo is based on https://github.com/PCMDI/pcmdi_metrics/tree/master/demo\n",
    "# Data is downloaded from http://oceanonly.llnl.gov/gleckler1/pmp-demo-data/pmpv1.1_demodata.tar\n",
    "\n",
    "import os\n",
    "import shlex\n",
    "import subprocess\n",
    "import sys\n",
    "\n",
    "import genutil\n",
    "import pcmdi_metrics\n",
    "\n",
    "\n",
    "def extract_tar(tar_path, output_path):\n",
    "    if not os.path.exists(output_path):\n",
    "        os.makedirs(output_path)\n",
    "\n",
    "    tar_process = subprocess.Popen(shlex.split('tar xvf {}'.format(os.path.realpath(tar_path))), cwd=output_path)\n",
    "    tar_process.wait()\n",
    "\n",
    "def analyze(param_file, output_path):\n",
    "    if not os.path.exists(output_path):\n",
    "        os.makedirs(output_path)\n",
    "\n",
    "    cmd = 'pcmdi_metrics_driver.py -p {}'.format(param_file)\n",
    "    pmp = subprocess.Popen(shlex.split(cmd))\n",
    "    pmp.wait()\n",
    "    \n",
    "    sys.path.insert(0, os.path.dirname(param_file))\n",
    "    exec('import {} as pmp_param'.format(os.path.basename(param_file)[:-3]))\n",
    "\n",
    "    loc = genutil.StringConstructor(os.path.join(pmp_param.metrics_output_path))\n",
    "    for att in ['case_id', 'model_version', 'period', 'realization']:\n",
    "        if hasattr(pmp_param, att):\n",
    "            setattr(loc, att, getattr(pmp_param, att))\n",
    "    print('You can now look at the results in: {}'.format(loc()))\n",
    "\n"
   ]
  },
  {
   "cell_type": "code",
   "execution_count": null,
   "metadata": {},
   "outputs": [],
   "source": [
    "extract_tar('./pmpv1.1_demodata.tar', 'tmp/pmp_demo')\n",
    "analyze('pmp_input_parameters_demo1.py', 'tmp/pmp_demo')"
   ]
  },
  {
   "cell_type": "code",
   "execution_count": 2,
   "metadata": {},
   "outputs": [
    {
     "name": "stdout",
     "output_type": "stream",
     "text": [
      "You can now look at the results in: ./tmp/CESM1/sample-test-1/\n"
     ]
    }
   ],
   "source": [
    "analyze('cesm1_input_parameters.py', 'tmp/CESM1')"
   ]
  }
 ],
 "metadata": {
  "kernelspec": {
   "display_name": "Python (pcmdi)",
   "language": "python",
   "name": "pcmdi"
  },
  "language_info": {
   "codemirror_mode": {
    "name": "ipython",
    "version": 2
   },
   "file_extension": ".py",
   "mimetype": "text/x-python",
   "name": "python",
   "nbconvert_exporter": "python",
   "pygments_lexer": "ipython2",
   "version": "2.7.15"
  }
 },
 "nbformat": 4,
 "nbformat_minor": 2
}
